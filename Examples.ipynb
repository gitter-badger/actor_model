{
 "metadata": {
  "name": "",
  "signature": "sha256:445b23287e214f844ac556bb30127eb3a77296efbe13385324b3105042fba5db"
 },
 "nbformat": 3,
 "nbformat_minor": 0,
 "worksheets": [
  {
   "cells": [
    {
     "cell_type": "heading",
     "level": 1,
     "metadata": {},
     "source": [
      "Introduction to the Actor Model of Computation (by example)"
     ]
    },
    {
     "cell_type": "markdown",
     "metadata": {},
     "source": [
      "We will use a minimal actor language to illustrate the basic primitives of the actor model of computation and some patterns.\n",
      "\n",
      "See the [introduction slides](http://nbviewer.ipython.org/github/waltermoreira/actor_model/tree/master/Introduction.ipynb) for an overview of the actor model."
     ]
    },
    {
     "cell_type": "heading",
     "level": 2,
     "metadata": {},
     "source": [
      "Installation"
     ]
    },
    {
     "cell_type": "markdown",
     "metadata": {},
     "source": [
      "* Install [Python 3.3+](https://www.python.org/download/releases/3.4.0)\n",
      "\n",
      "* Install the `tartpy` module with:\n",
      "\n",
      "        pip install git+https://github.com/waltermoreira/tartpy\n",
      "        \n",
      "* Clone this project:\n",
      "\n",
      "        git clone https://github.com/waltermoreira/actor_model.git\n",
      "\n",
      "* Start an `ipython` server:\n",
      "\n",
      "        cd actor_model\n",
      "        ipython notebook\n",
      "\n",
      "* Load the notebook `Examples.ipynb`"
     ]
    },
    {
     "cell_type": "heading",
     "level": 2,
     "metadata": {},
     "source": [
      "Preparing the environment"
     ]
    },
    {
     "cell_type": "markdown",
     "metadata": {},
     "source": [
      "Import the `Runtime` class and the behavior decorator:"
     ]
    },
    {
     "cell_type": "code",
     "collapsed": false,
     "input": [
      "from tartpy.runtime import Runtime, behavior"
     ],
     "language": "python",
     "metadata": {},
     "outputs": [],
     "prompt_number": 2
    },
    {
     "cell_type": "markdown",
     "metadata": {},
     "source": [
      "The `Runtime` class creates a singleton, which is responsible for initially creating the actors."
     ]
    },
    {
     "cell_type": "code",
     "collapsed": false,
     "input": [
      "runtime = Runtime()"
     ],
     "language": "python",
     "metadata": {},
     "outputs": [],
     "prompt_number": 3
    },
    {
     "cell_type": "heading",
     "level": 6,
     "metadata": {},
     "source": [
      "Small aside"
     ]
    },
    {
     "cell_type": "markdown",
     "metadata": {},
     "source": [
      "The output from the actors is _asynchronous_. The following is a silly trick to make sure the output appears right after the cell we are evaluating. This is just an artifact of the IPython notebook."
     ]
    },
    {
     "cell_type": "code",
     "collapsed": false,
     "input": [
      "import time\n",
      "\n",
      "def flush(wait=0.1):\n",
      "    time.sleep(wait)"
     ],
     "language": "python",
     "metadata": {},
     "outputs": [],
     "prompt_number": 4
    },
    {
     "cell_type": "heading",
     "level": 2,
     "metadata": {},
     "source": [
      "Fundamentals"
     ]
    },
    {
     "cell_type": "heading",
     "level": 3,
     "metadata": {},
     "source": [
      "An Actor in Python"
     ]
    },
    {
     "cell_type": "markdown",
     "metadata": {},
     "source": [
      "An actor can be seen as a bundles of _behaviors_.  The behavior is responsible for handling __one__ message, and it designates the behavior for the next message.\n",
      "\n",
      "In `tartpy`, a behavior gets two arguments:\n",
      "\n",
      "* `self`: a reference to the actor that is executing this behavior,\n",
      "\n",
      "* `message`: the message being passed.\n",
      "\n",
      "The first example just prints any message it receives:"
     ]
    },
    {
     "cell_type": "code",
     "collapsed": false,
     "input": [
      "@behavior\n",
      "def demo_beh(self, message):\n",
      "    print(message)"
     ],
     "language": "python",
     "metadata": {},
     "outputs": [],
     "prompt_number": 5
    },
    {
     "cell_type": "markdown",
     "metadata": {},
     "source": [
      "A behavior is used to create an __actor__, by asking the runtime to do it.  In theory, only actors can create other actors, but we need to bootstrap our system."
     ]
    },
    {
     "cell_type": "code",
     "collapsed": false,
     "input": [
      "demo_actor = runtime.create(demo_beh)"
     ],
     "language": "python",
     "metadata": {},
     "outputs": [],
     "prompt_number": 6
    },
    {
     "cell_type": "markdown",
     "metadata": {},
     "source": [
      "Now the actor is \"running\", which means it is ready to receive a message which will activate its behavior:"
     ]
    },
    {
     "cell_type": "code",
     "collapsed": false,
     "input": [
      "demo_actor << \"foo\"\n",
      "flush()"
     ],
     "language": "python",
     "metadata": {},
     "outputs": [
      {
       "output_type": "stream",
       "stream": "stdout",
       "text": [
        "foo\n"
       ]
      }
     ],
     "prompt_number": 9
    },
    {
     "cell_type": "markdown",
     "metadata": {},
     "source": [
      "(remember the `flush` function is an artifact just to force the display of any output, it __does not__ correspond to any concept in the actor model.)"
     ]
    },
    {
     "cell_type": "heading",
     "level": 3,
     "metadata": {},
     "source": [
      "An Actor with state"
     ]
    },
    {
     "cell_type": "markdown",
     "metadata": {},
     "source": [
      "In addition to the last two arguments of a behavior (`self` and `message`), any other arguments parametrizes the behavior.  \n",
      "\n",
      "Mutating these arguments produces _state_ in the behavior (but it will __never__ be shared state, due to the semantics of actors)."
     ]
    },
    {
     "cell_type": "code",
     "collapsed": false,
     "input": [
      "@behavior\n",
      "def counter_beh(state, self, message):\n",
      "    print('Start count:', state['count'])\n",
      "    print('Message:    ', message)\n",
      "\n",
      "    state['count'] += message\n",
      "\n",
      "    print('End count:  ', state['count'])\n",
      "    print()"
     ],
     "language": "python",
     "metadata": {},
     "outputs": [],
     "prompt_number": 13
    },
    {
     "cell_type": "markdown",
     "metadata": {},
     "source": [
      "Create the actor with an inital state, which is a dictionary (mutable in Python):"
     ]
    },
    {
     "cell_type": "code",
     "collapsed": false,
     "input": [
      "counter = runtime.create(counter_beh, {'count': 1337})"
     ],
     "language": "python",
     "metadata": {},
     "outputs": [],
     "prompt_number": 14
    },
    {
     "cell_type": "markdown",
     "metadata": {},
     "source": [
      "And test it with some messages:"
     ]
    },
    {
     "cell_type": "code",
     "collapsed": false,
     "input": [
      "counter << 1\n",
      "counter << 2\n",
      "counter << -10\n",
      "flush()"
     ],
     "language": "python",
     "metadata": {},
     "outputs": [
      {
       "output_type": "stream",
       "stream": "stdout",
       "text": [
        "Start count: 1337\n",
        "Message:     1\n",
        "End count:   1338\n",
        "\n",
        "Start count: 1338\n",
        "Message:     2\n",
        "End count:   1340\n",
        "\n",
        "Start count: 1340\n",
        "Message:     -10\n",
        "End count:   1330\n",
        "\n"
       ]
      }
     ],
     "prompt_number": 15
    },
    {
     "cell_type": "code",
     "collapsed": false,
     "input": [],
     "language": "python",
     "metadata": {},
     "outputs": []
    }
   ],
   "metadata": {}
  }
 ]
}
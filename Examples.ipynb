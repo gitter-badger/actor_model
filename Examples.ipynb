{
 "metadata": {
  "name": "",
  "signature": "sha256:6e6361545a5380b5a6ed9b6e05021712326dc0d563f6d2602c2a347f0444a013"
 },
 "nbformat": 3,
 "nbformat_minor": 0,
 "worksheets": [
  {
   "cells": [
    {
     "cell_type": "heading",
     "level": 1,
     "metadata": {},
     "source": [
      "Introduction to the Actor Model of Computation (by examples)"
     ]
    },
    {
     "cell_type": "markdown",
     "metadata": {},
     "source": [
      "We will use a minimal actor language to illustrate the basic primitives and some patterns."
     ]
    },
    {
     "cell_type": "heading",
     "level": 2,
     "metadata": {},
     "source": [
      "Installation"
     ]
    },
    {
     "cell_type": "markdown",
     "metadata": {},
     "source": [
      "* Install [Python 3.3+](https://www.python.org/download/releases/3.4.0)\n",
      "\n",
      "* Install the `tartpy` module with:\n",
      "\n",
      "        pip install git+https://github.com/waltermoreira/tartpy\n",
      "        \n",
      "* Clone this project:\n",
      "\n",
      "        git clone https://github.com/waltermoreira/actor_model.git\n",
      "\n",
      "* Start an `ipython` server:\n",
      "\n",
      "        cd actor_model\n",
      "        ipython notebook\n",
      "\n",
      "* Load the notebook `Examples.ipynb`"
     ]
    },
    {
     "cell_type": "heading",
     "level": 2,
     "metadata": {},
     "source": [
      "Preparing the environment"
     ]
    },
    {
     "cell_type": "markdown",
     "metadata": {},
     "source": [
      "Import the `Runtime` class and the behavior decorator:"
     ]
    },
    {
     "cell_type": "code",
     "collapsed": false,
     "input": [
      "from tartpy.runtime import Runtime, behavior"
     ],
     "language": "python",
     "metadata": {},
     "outputs": [],
     "prompt_number": 9
    },
    {
     "cell_type": "markdown",
     "metadata": {},
     "source": [
      "The `Runtime` class creates a singleton, which is responsible for initially creating the actors."
     ]
    },
    {
     "cell_type": "code",
     "collapsed": false,
     "input": [
      "runtime = Runtime()"
     ],
     "language": "python",
     "metadata": {},
     "outputs": [],
     "prompt_number": 10
    },
    {
     "cell_type": "heading",
     "level": 6,
     "metadata": {},
     "source": [
      "Small aside"
     ]
    },
    {
     "cell_type": "markdown",
     "metadata": {},
     "source": [
      "The output from the actors is _asynchronous_. The following is a silly trick to make sure the output appears right after the cell we are evaluating. This is just an artifact of the IPython notebook."
     ]
    },
    {
     "cell_type": "code",
     "collapsed": false,
     "input": [
      "import time\n",
      "\n",
      "def flush(wait=0.1):\n",
      "    time.sleep(wait)"
     ],
     "language": "python",
     "metadata": {},
     "outputs": [],
     "prompt_number": 12
    },
    {
     "cell_type": "heading",
     "level": 2,
     "metadata": {},
     "source": [
      "Fundamentals"
     ]
    },
    {
     "cell_type": "code",
     "collapsed": false,
     "input": [],
     "language": "python",
     "metadata": {},
     "outputs": []
    }
   ],
   "metadata": {}
  }
 ]
}
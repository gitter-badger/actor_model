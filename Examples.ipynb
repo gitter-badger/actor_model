{
 "metadata": {
  "name": "",
  "signature": "sha256:7b43d9f648af3905d5408c9085e62f02c9335a9adc090274d1250e9f434e27fb"
 },
 "nbformat": 3,
 "nbformat_minor": 0,
 "worksheets": [
  {
   "cells": [
    {
     "cell_type": "heading",
     "level": 1,
     "metadata": {},
     "source": [
      "Introduction to the Actor Model of Computation (by example)"
     ]
    },
    {
     "cell_type": "markdown",
     "metadata": {},
     "source": [
      "We will use a minimal actor language to illustrate the basic primitives of the actor model of computation and some patterns.\n",
      "\n",
      "See the [introduction slides](http://nbviewer.ipython.org/github/waltermoreira/actor_model/tree/master/Introduction.ipynb) for an overview of the actor model."
     ]
    },
    {
     "cell_type": "heading",
     "level": 2,
     "metadata": {},
     "source": [
      "Installation"
     ]
    },
    {
     "cell_type": "markdown",
     "metadata": {},
     "source": [
      "* Install [Python 3.3+](https://www.python.org/download/releases/3.4.0)\n",
      "\n",
      "* Install the `tartpy` module with:\n",
      "\n",
      "        pip install git+https://github.com/waltermoreira/tartpy\n",
      "        \n",
      "* Clone this project:\n",
      "\n",
      "        git clone https://github.com/waltermoreira/actor_model.git\n",
      "\n",
      "* Start an `ipython` server:\n",
      "\n",
      "        cd actor_model\n",
      "        ipython notebook\n",
      "\n",
      "* Load the notebook `Examples.ipynb`"
     ]
    },
    {
     "cell_type": "heading",
     "level": 2,
     "metadata": {},
     "source": [
      "Preparing the environment"
     ]
    },
    {
     "cell_type": "markdown",
     "metadata": {},
     "source": [
      "Import the `Runtime` class and the behavior decorator:"
     ]
    },
    {
     "cell_type": "code",
     "collapsed": false,
     "input": [
      "from tartpy.runtime import Runtime, behavior"
     ],
     "language": "python",
     "metadata": {},
     "outputs": [],
     "prompt_number": 1
    },
    {
     "cell_type": "markdown",
     "metadata": {},
     "source": [
      "The `Runtime` class creates a singleton, which is responsible for initially creating the actors."
     ]
    },
    {
     "cell_type": "code",
     "collapsed": false,
     "input": [
      "runtime = Runtime()"
     ],
     "language": "python",
     "metadata": {},
     "outputs": [],
     "prompt_number": 2
    },
    {
     "cell_type": "heading",
     "level": 6,
     "metadata": {},
     "source": [
      "Small aside"
     ]
    },
    {
     "cell_type": "markdown",
     "metadata": {},
     "source": [
      "The output from the actors is _asynchronous_. The following is a silly trick to make sure the output appears right after the cell we are evaluating. This is just an artifact of the IPython notebook."
     ]
    },
    {
     "cell_type": "code",
     "collapsed": false,
     "input": [
      "import time\n",
      "\n",
      "def flush(wait=0.1):\n",
      "    time.sleep(wait)"
     ],
     "language": "python",
     "metadata": {},
     "outputs": [],
     "prompt_number": 3
    },
    {
     "cell_type": "heading",
     "level": 2,
     "metadata": {},
     "source": [
      "Fundamentals"
     ]
    },
    {
     "cell_type": "heading",
     "level": 3,
     "metadata": {},
     "source": [
      "An Actor in Python"
     ]
    },
    {
     "cell_type": "markdown",
     "metadata": {},
     "source": [
      "An actor can be seen as a bundles of _behaviors_.  The behavior is responsible for handling __one__ message, and it designates the behavior for the next message.\n",
      "\n",
      "In `tartpy`, a behavior gets two arguments:\n",
      "\n",
      "* `self`: a reference to the actor that is executing this behavior,\n",
      "\n",
      "* `message`: the message being passed.\n",
      "\n",
      "The first example just prints any message it receives:"
     ]
    },
    {
     "cell_type": "code",
     "collapsed": false,
     "input": [
      "@behavior\n",
      "def demo_beh(self, message):\n",
      "    print(message)"
     ],
     "language": "python",
     "metadata": {},
     "outputs": [],
     "prompt_number": 4
    },
    {
     "cell_type": "markdown",
     "metadata": {},
     "source": [
      "A behavior is used to create an __actor__, by asking the runtime to do it.  In theory, only actors can create other actors, but we need to bootstrap our system."
     ]
    },
    {
     "cell_type": "code",
     "collapsed": false,
     "input": [
      "demo_actor = runtime.create(demo_beh)"
     ],
     "language": "python",
     "metadata": {},
     "outputs": [],
     "prompt_number": 5
    },
    {
     "cell_type": "markdown",
     "metadata": {},
     "source": [
      "Now the actor is \"running\", which means it is ready to receive a message which will activate its behavior:"
     ]
    },
    {
     "cell_type": "code",
     "collapsed": false,
     "input": [
      "demo_actor << \"foo\"\n",
      "flush()"
     ],
     "language": "python",
     "metadata": {},
     "outputs": [
      {
       "output_type": "stream",
       "stream": "stdout",
       "text": [
        "foo\n"
       ]
      }
     ],
     "prompt_number": 6
    },
    {
     "cell_type": "markdown",
     "metadata": {},
     "source": [
      "(remember the `flush` function is an artifact just to force the display of any output, it __does not__ correspond to any concept in the actor model.)"
     ]
    },
    {
     "cell_type": "heading",
     "level": 3,
     "metadata": {},
     "source": [
      "An Actor with state"
     ]
    },
    {
     "cell_type": "markdown",
     "metadata": {},
     "source": [
      "In addition to the last two arguments of a behavior (`self` and `message`), any other arguments parametrizes the behavior.  \n",
      "\n",
      "Mutating these arguments produces _state_ in the behavior (but it will __never__ be shared state, due to the semantics of actors)."
     ]
    },
    {
     "cell_type": "code",
     "collapsed": false,
     "input": [
      "@behavior\n",
      "def counter_beh(state, self, message):\n",
      "    print('Start count:', state['count'])\n",
      "    print('Message:    ', message)\n",
      "\n",
      "    state['count'] += message\n",
      "\n",
      "    print('End count:  ', state['count'])\n",
      "    print()"
     ],
     "language": "python",
     "metadata": {},
     "outputs": [],
     "prompt_number": 7
    },
    {
     "cell_type": "markdown",
     "metadata": {},
     "source": [
      "Create the actor with an inital state, which is a dictionary (mutable in Python):"
     ]
    },
    {
     "cell_type": "code",
     "collapsed": false,
     "input": [
      "counter = runtime.create(counter_beh, {'count': 1337})"
     ],
     "language": "python",
     "metadata": {},
     "outputs": [],
     "prompt_number": 8
    },
    {
     "cell_type": "markdown",
     "metadata": {},
     "source": [
      "And test it with some messages:"
     ]
    },
    {
     "cell_type": "code",
     "collapsed": false,
     "input": [
      "counter << 1\n",
      "counter << 2\n",
      "counter << -10\n",
      "flush()"
     ],
     "language": "python",
     "metadata": {},
     "outputs": [
      {
       "output_type": "stream",
       "stream": "stdout",
       "text": [
        "Start count: 1337\n",
        "Message:     1\n",
        "End count:   1338\n",
        "\n",
        "Start count: 1338\n",
        "Message:     2\n",
        "End count:   1340\n",
        "\n",
        "Start count: 1340\n",
        "Message:     -10\n",
        "End count:   1330\n",
        "\n"
       ]
      }
     ],
     "prompt_number": 9
    },
    {
     "cell_type": "markdown",
     "metadata": {},
     "source": [
      "It's important to note that this way to keep state in the actor goes outside of the pure model.  The proper way is to use `become` (see [Changing parametrized behaviors](#Changing-parametrized-behaviors))."
     ]
    },
    {
     "cell_type": "heading",
     "level": 4,
     "metadata": {},
     "source": [
      "Ping-pong"
     ]
    },
    {
     "cell_type": "markdown",
     "metadata": {},
     "source": [
      "A classical example in concurrency: create two entities that send back and forth a message between themselves.\n",
      "\n",
      "The first actor, `ping`, will assume that the message is the address of its companion, `pong`, and it will send itself as a message to that address.  `pong` will do the same, but it will also keep a state to limit the number of iterations.\n",
      "\n",
      "We add debugging statements to show the asynchrony of message sending."
     ]
    },
    {
     "cell_type": "code",
     "collapsed": false,
     "input": [
      "@behavior\n",
      "def ping_beh(self, message):\n",
      "    print('[PING    ] send')\n",
      "    message << self\n",
      "    print('[PING    ] finish')\n",
      "\n",
      "@behavior\n",
      "def pong_beh(state, self, message):\n",
      "    if state['count'] == 0:         # only play `count` times\n",
      "        print('[    PONG] Done')\n",
      "        return\n",
      "\n",
      "    print('[    PONG] send')\n",
      "    message << self\n",
      "    print('[    PONG] finish')\n",
      "    state['count'] -= 1\n",
      "\n",
      "ping = runtime.create(ping_beh)\n",
      "pong = runtime.create(pong_beh, {'count': 2})  # let's play just twice"
     ],
     "language": "python",
     "metadata": {},
     "outputs": [],
     "prompt_number": 10
    },
    {
     "cell_type": "markdown",
     "metadata": {},
     "source": [
      "We start playing by sending the message `pong` to `ping`:"
     ]
    },
    {
     "cell_type": "code",
     "collapsed": false,
     "input": [
      "ping << pong\n",
      "flush()"
     ],
     "language": "python",
     "metadata": {},
     "outputs": [
      {
       "output_type": "stream",
       "stream": "stdout",
       "text": [
        "[PING    ] send\n",
        "[PING    ] finish\n",
        "[    PONG] send\n",
        "[    PONG] finish\n",
        "[PING    ] send\n",
        "[PING    ] finish\n",
        "[    PONG] send\n",
        "[    PONG] finish\n",
        "[PING    ] send\n",
        "[PING    ] finish\n",
        "[    PONG] Done\n"
       ]
      }
     ],
     "prompt_number": 11
    },
    {
     "cell_type": "markdown",
     "metadata": {},
     "source": [
      "Notice that sending a message **does not** block the execution of the actor.  If the execution were synchronous, we would have seen a nested series of `PING`s before the corresponding series of `PONG`s."
     ]
    },
    {
     "cell_type": "heading",
     "level": 3,
     "metadata": {},
     "source": [
      "Methods of self"
     ]
    },
    {
     "cell_type": "markdown",
     "metadata": {},
     "source": [
      "The following actor shows the methods available to itself via the reference `self`. We ignore methods starting with `_` (underscore) since they are just an implementation detail."
     ]
    },
    {
     "cell_type": "code",
     "collapsed": false,
     "input": [
      "@behavior\n",
      "def show_self_beh(self, message):\n",
      "    print('self:   ', self)\n",
      "    print('methods:', [method for method in dir(self) if not method.startswith('_')])\n",
      "\n",
      "show_self = runtime.create(show_self_beh)\n",
      "\n",
      "show_self << None   # None is a null message\n",
      "flush()"
     ],
     "language": "python",
     "metadata": {},
     "outputs": [
      {
       "output_type": "stream",
       "stream": "stdout",
       "text": [
        "self:    <tartpy.runtime.Actor object at 0x110d1c438>\n",
        "methods: ['become', 'create', 'send', 'throw']\n"
       ]
      }
     ],
     "prompt_number": 12
    },
    {
     "cell_type": "markdown",
     "metadata": {},
     "source": [
      "In addition to the three primitives of the actor model: `send`, `create`, and `become`, it also includes the method `throw` that raises an error to the runtime.\n",
      "\n",
      "Note that the syntax `<<` is just another way of writing `send`:\n",
      "\n",
      "```python\n",
      "a << m  ==  a.send(m)\n",
      "```"
     ]
    },
    {
     "cell_type": "heading",
     "level": 3,
     "metadata": {},
     "source": [
      "Changing Behavior (become)"
     ]
    },
    {
     "cell_type": "markdown",
     "metadata": {},
     "source": [
      "The following is an example of an actor that changes behavior.\n",
      "\n",
      "We first define two different behaviors:"
     ]
    },
    {
     "cell_type": "code",
     "collapsed": false,
     "input": [
      "@behavior\n",
      "def blue_beh(self, message):\n",
      "    print(\"I'm a BLUE actor\")\n",
      "    self.become(green_beh)\n",
      "\n",
      "@behavior\n",
      "def green_beh(self, message):\n",
      "    print(\"I'm a GREEN actor\")\n",
      "    self.become(blue_beh)"
     ],
     "language": "python",
     "metadata": {},
     "outputs": [],
     "prompt_number": 13
    },
    {
     "cell_type": "markdown",
     "metadata": {},
     "source": [
      "We create an actor whose initial behavior is `blue_beh`.  The actor can be considered as the bundle of these two behaviors."
     ]
    },
    {
     "cell_type": "code",
     "collapsed": false,
     "input": [
      "color = runtime.create(blue_beh)\n",
      "\n",
      "color << None\n",
      "color << None\n",
      "color << None\n",
      "\n",
      "flush()"
     ],
     "language": "python",
     "metadata": {},
     "outputs": [
      {
       "output_type": "stream",
       "stream": "stdout",
       "text": [
        "I'm a BLUE actor\n",
        "I'm a GREEN actor\n",
        "I'm a BLUE actor\n"
       ]
      }
     ],
     "prompt_number": 14
    },
    {
     "cell_type": "heading",
     "level": 4,
     "metadata": {},
     "source": [
      "Changing parametrized behaviors"
     ]
    },
    {
     "cell_type": "markdown",
     "metadata": {},
     "source": [
      "Parametrized behaviors are the mechanism to keep state in the pure actor model (see also [An Actor with state](#An-Actor-with-state))."
     ]
    },
    {
     "cell_type": "code",
     "collapsed": false,
     "input": [
      "@behavior\n",
      "def fuse_beh(state, self, message):\n",
      "    if state == 'off':\n",
      "        print('Fuse is blown')\n",
      "        return\n",
      "    if message > 10:  # if more than 10 amps, fuse blows\n",
      "        print('Poof')\n",
      "        self.become(fuse_beh, 'off')\n",
      "    else:\n",
      "        print('Current is', message)\n",
      "        \n",
      "fuse = runtime.create(fuse_beh, 'on')\n",
      "\n",
      "fuse << 1\n",
      "fuse << 5\n",
      "fuse << 11\n",
      "fuse << 12\n",
      "fuse << 3\n",
      "\n",
      "flush()"
     ],
     "language": "python",
     "metadata": {},
     "outputs": [
      {
       "output_type": "stream",
       "stream": "stdout",
       "text": [
        "Current is 1\n",
        "Current is 5\n",
        "Poof\n",
        "Fuse is blown\n",
        "Fuse is blown\n"
       ]
      }
     ],
     "prompt_number": 15
    },
    {
     "cell_type": "heading",
     "level": 3,
     "metadata": {},
     "source": [
      "Creating actors"
     ]
    },
    {
     "cell_type": "markdown",
     "metadata": {},
     "source": [
      "The next example is just to illustrate the remaining primitive: `create`.  It creates a chain of actors who propagate the initial message."
     ]
    },
    {
     "cell_type": "code",
     "collapsed": false,
     "input": [
      "@behavior\n",
      "def chain_beh(count, self, message):\n",
      "    if count > 0:\n",
      "        print('Chain', count)\n",
      "        next = self.create(chain_beh, count-1)\n",
      "        next << message\n",
      "    else:\n",
      "        print(message)\n",
      "\n",
      "chain = runtime.create(chain_beh, 5)\n",
      "chain << 'go'\n",
      "\n",
      "flush()"
     ],
     "language": "python",
     "metadata": {},
     "outputs": [
      {
       "output_type": "stream",
       "stream": "stdout",
       "text": [
        "Chain 5\n",
        "Chain 4\n",
        "Chain 3\n",
        "Chain 2\n",
        "Chain 1\n",
        "go\n"
       ]
      }
     ],
     "prompt_number": 17
    },
    {
     "cell_type": "heading",
     "level": 2,
     "metadata": {},
     "source": [
      "Actor Idioms"
     ]
    },
    {
     "cell_type": "markdown",
     "metadata": {},
     "source": [
      "This section shows a set of common patterns in distributed systems expressed with actors.\n",
      "\n",
      "Throughout the examples we are going to use an actor that just displays any message it receives:"
     ]
    },
    {
     "cell_type": "code",
     "collapsed": false,
     "input": [
      "@behavior\n",
      "def log_beh(self, message):\n",
      "    print('CUSTOMER:', message)\n",
      "\n",
      "log = runtime.create(log_beh)"
     ],
     "language": "python",
     "metadata": {},
     "outputs": [],
     "prompt_number": 23
    },
    {
     "cell_type": "markdown",
     "metadata": {},
     "source": [
      "Let's test it:"
     ]
    },
    {
     "cell_type": "code",
     "collapsed": false,
     "input": [
      "log << 'hi there'\n",
      "flush()"
     ],
     "language": "python",
     "metadata": {},
     "outputs": [
      {
       "output_type": "stream",
       "stream": "stdout",
       "text": [
        "CUSTOMER: hi there\n"
       ]
      }
     ],
     "prompt_number": 24
    },
    {
     "cell_type": "heading",
     "level": 3,
     "metadata": {},
     "source": [
      "Request/Reply Idiom"
     ]
    },
    {
     "cell_type": "markdown",
     "metadata": {},
     "source": [
      "This is one of the most common patterns: the client/server architecture.  It is so ingrained in our thinking that it's usually considered a primitive.\n",
      "\n",
      "Notice that with actors, the client that receives a reply from a server (usually called _customer_) **does not** need to be the same as the one that sends the message.  The server cannot tell the identity of the sender from the customer."
     ]
    },
    {
     "cell_type": "code",
     "collapsed": false,
     "input": [
      "@behavior\n",
      "def service_beh(self, message):\n",
      "    customer = message['customer']\n",
      "    customer << 'some data from the server'\n",
      "    \n",
      "service = runtime.create(service_beh)"
     ],
     "language": "python",
     "metadata": {},
     "outputs": [],
     "prompt_number": 25
    },
    {
     "cell_type": "markdown",
     "metadata": {},
     "source": [
      "Send a message to the service and ask it to reply to `log` as customer:"
     ]
    },
    {
     "cell_type": "code",
     "collapsed": false,
     "input": [
      "service << {'customer': log}\n",
      "flush()"
     ],
     "language": "python",
     "metadata": {},
     "outputs": [
      {
       "output_type": "stream",
       "stream": "stdout",
       "text": [
        "CUSTOMER: some data from the server\n"
       ]
      }
     ],
     "prompt_number": 26
    },
    {
     "cell_type": "heading",
     "level": 3,
     "metadata": {},
     "source": [
      "Forward Idiom"
     ]
    },
    {
     "cell_type": "markdown",
     "metadata": {},
     "source": [
      "This is an actor that forwards any message it receives to a given subject:"
     ]
    },
    {
     "cell_type": "code",
     "collapsed": false,
     "input": [
      "@behavior\n",
      "def forward_beh(subject, self, message):\n",
      "    subject << message\n",
      "\n",
      "# let's create a forwarder for `log`\n",
      "forward = runtime.create(forward_beh, log)\n",
      "\n",
      "forward << 'hi'\n",
      "forward << 'there'\n",
      "flush()"
     ],
     "language": "python",
     "metadata": {},
     "outputs": [
      {
       "output_type": "stream",
       "stream": "stdout",
       "text": [
        "CUSTOMER: hi\n",
        "CUSTOMER: there\n"
       ]
      }
     ],
     "prompt_number": 27
    },
    {
     "cell_type": "heading",
     "level": 3,
     "metadata": {},
     "source": [
      "One-shot Idiom"
     ]
    },
    {
     "cell_type": "markdown",
     "metadata": {},
     "source": [
      "This actor forwards only **one** message, and then ignores any subsequent one:"
     ]
    },
    {
     "cell_type": "code",
     "collapsed": false,
     "input": [
      "@behavior\n",
      "def one_shot_beh(subject, self, message):\n",
      "    subject << message\n",
      "    self.become(ignore_beh)\n",
      "\n",
      "@behavior\n",
      "def ignore_beh(self, message):\n",
      "    pass\n",
      "\n",
      "one_shot = runtime.create(one_shot_beh, log)\n",
      "\n",
      "one_shot << 'are we there yet?'\n",
      "one_shot << 'are we there yet?'\n",
      "one_shot << 'are we there yet?'\n",
      "flush()"
     ],
     "language": "python",
     "metadata": {},
     "outputs": [
      {
       "output_type": "stream",
       "stream": "stdout",
       "text": [
        "CUSTOMER: are we there yet?\n"
       ]
      }
     ],
     "prompt_number": 28
    },
    {
     "cell_type": "heading",
     "level": 3,
     "metadata": {},
     "source": [
      "Label and Tag Idioms"
     ]
    },
    {
     "cell_type": "markdown",
     "metadata": {},
     "source": [
      "These actors are just forwarders that add extra information to the messages.\n",
      "\n",
      "The _label_ actor adds an arbitrary label to the message:"
     ]
    },
    {
     "cell_type": "code",
     "collapsed": false,
     "input": [
      "@behavior\n",
      "def label_beh(subject, label, self, message):\n",
      "    subject << {'label': label,\n",
      "                'message': message}\n",
      "\n",
      "label = runtime.create(label_beh, log, 'I was here!')\n",
      "\n",
      "label << 'label me'\n",
      "label << 17\n",
      "label << ['some', 'object']\n",
      "flush()"
     ],
     "language": "python",
     "metadata": {},
     "outputs": [
      {
       "output_type": "stream",
       "stream": "stdout",
       "text": [
        "CUSTOMER: {'message': 'label me', 'label': 'I was here!'}\n",
        "CUSTOMER: {'message': 17, 'label': 'I was here!'}\n",
        "CUSTOMER: {'message': ['some', 'object'], 'label': 'I was here!'}\n"
       ]
      }
     ],
     "prompt_number": 34
    },
    {
     "cell_type": "markdown",
     "metadata": {},
     "source": [
      "A important particular case of the label idiom is to add a **secure** token to a message.  Using the fact that actor addresses are unique and unforgeable, we could do:"
     ]
    },
    {
     "cell_type": "code",
     "collapsed": false,
     "input": [
      "@behavior\n",
      "def tag_beh(subject, self, message):\n",
      "    subject << {'tag': self,\n",
      "                'message': message}\n",
      "    \n",
      "tag = runtime.create(tag_beh, log)\n",
      "\n",
      "tag << 'data'\n",
      "flush()"
     ],
     "language": "python",
     "metadata": {},
     "outputs": [
      {
       "output_type": "stream",
       "stream": "stdout",
       "text": [
        "CUSTOMER: {'tag': <tartpy.runtime.Actor object at 0x1112c0518>, 'message': 'data'}\n"
       ]
      }
     ],
     "prompt_number": 39
    },
    {
     "cell_type": "heading",
     "level": 3,
     "metadata": {},
     "source": [
      "Interlude: Race Example"
     ]
    },
    {
     "cell_type": "markdown",
     "metadata": {},
     "source": [
      "This example creates several servers, responding at random times to a customer, and we want to process only the fastest response.\n",
      "\n",
      "The `race` actor sends a message to all the servers, and makes sure to deliver *only* the first response to its customer:"
     ]
    },
    {
     "cell_type": "code",
     "collapsed": false,
     "input": [
      "@behavior\n",
      "def race_beh(services, self, message):\n",
      "    customer = message['customer']\n",
      "    one_shot = self.create(one_shot_beh, customer)\n",
      "    message['customer'] = one_shot\n",
      "\n",
      "    for service in services:\n",
      "        service << message"
     ],
     "language": "python",
     "metadata": {},
     "outputs": [],
     "prompt_number": 40
    },
    {
     "cell_type": "markdown",
     "metadata": {},
     "source": [
      "The `random_service` actor waits a random time between 0 and 10 seconds, before sending a reply to the customer:"
     ]
    },
    {
     "cell_type": "code",
     "collapsed": false,
     "input": [
      "from random import random\n",
      "from tartpy.eventloop import EventLoop\n",
      "\n",
      "@behavior\n",
      "def random_service_beh(uid, self, message):\n",
      "    customer = message['customer']\n",
      "    EventLoop().later(random()*10,\n",
      "                      lambda: customer << {'id': uid})"
     ],
     "language": "python",
     "metadata": {},
     "outputs": [],
     "prompt_number": 41
    },
    {
     "cell_type": "markdown",
     "metadata": {},
     "source": [
      "Finally, we create 10 random services and we let `race` send its messages:"
     ]
    },
    {
     "cell_type": "code",
     "collapsed": false,
     "input": [
      "services = [runtime.create(random_service_beh, i) for i in range(10)]\n",
      "\n",
      "race = runtime.create(race_beh, services)\n",
      "\n",
      "race << {'customer': log}\n",
      "flush(2)  # wait sometime to give time to deliver all messages"
     ],
     "language": "python",
     "metadata": {},
     "outputs": [
      {
       "output_type": "stream",
       "stream": "stdout",
       "text": [
        "CUSTOMER: {'id': 2}\n"
       ]
      }
     ],
     "prompt_number": 52
    },
    {
     "cell_type": "markdown",
     "metadata": {},
     "source": [
      "Try it again to see if a different service wins the race:"
     ]
    },
    {
     "cell_type": "code",
     "collapsed": false,
     "input": [
      "race << {'customer': log}\n",
      "flush(2)"
     ],
     "language": "python",
     "metadata": {},
     "outputs": [
      {
       "output_type": "stream",
       "stream": "stdout",
       "text": [
        "CUSTOMER: {'id': 9}\n"
       ]
      }
     ],
     "prompt_number": 53
    }
   ],
   "metadata": {}
  }
 ]
}
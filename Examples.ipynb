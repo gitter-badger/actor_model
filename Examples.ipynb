{
 "metadata": {
  "name": "",
  "signature": "sha256:0eb60af65ad034d611014141d8b82a24b9a57e36ec88c0d3ea01dd89cc5dc86a"
 },
 "nbformat": 3,
 "nbformat_minor": 0,
 "worksheets": [
  {
   "cells": [
    {
     "cell_type": "heading",
     "level": 1,
     "metadata": {},
     "source": [
      "Introduction to the Actor Model of Computation (by examples)"
     ]
    },
    {
     "cell_type": "code",
     "collapsed": false,
     "input": [],
     "language": "python",
     "metadata": {},
     "outputs": []
    }
   ],
   "metadata": {}
  }
 ]
}
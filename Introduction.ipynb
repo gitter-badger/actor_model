{
 "metadata": {
  "celltoolbar": "Slideshow",
  "name": "",
  "signature": "sha256:e8096bbb306d9f33c1cfbea40a392a9ea96d3e6443537c4587511b5bc891ae48"
 },
 "nbformat": 3,
 "nbformat_minor": 0,
 "worksheets": [
  {
   "cells": [
    {
     "cell_type": "markdown",
     "metadata": {
      "slideshow": {
       "slide_type": "skip"
      }
     },
     "source": [
      "Before starting:\n",
      "================\n",
      "\n",
      "This notebook is meant to be used as slides.\n",
      "\n",
      "Evaluate the following cell to convert it to html:"
     ]
    },
    {
     "cell_type": "code",
     "collapsed": false,
     "input": [
      "!ipython nbconvert --to slides Introduction.ipynb --SlidesExporter.template_file=slides_template.tpl"
     ],
     "language": "python",
     "metadata": {
      "slideshow": {
       "slide_type": "skip"
      }
     },
     "outputs": []
    },
    {
     "cell_type": "markdown",
     "metadata": {
      "slideshow": {
       "slide_type": "skip"
      }
     },
     "source": [
      "Evaluate the following cell to start a server with the generated slides:"
     ]
    },
    {
     "cell_type": "code",
     "collapsed": false,
     "input": [
      "PORT = 5555 # change the port if necessary\n",
      "\n",
      "import subprocess\n",
      "server = subprocess.Popen('python -m http.server {}'.format(PORT).split())\n",
      "print('\\nSee the slides at: http://localhost:{}/Introduction.slides.html'.format(PORT))"
     ],
     "language": "python",
     "metadata": {
      "slideshow": {
       "slide_type": "skip"
      }
     },
     "outputs": []
    },
    {
     "cell_type": "markdown",
     "metadata": {
      "slideshow": {
       "slide_type": "slide"
      }
     },
     "source": [
      "Introduction to the Actor Model of Computation\n",
      "==============================================\n",
      "\n",
      "Walter Moreira"
     ]
    },
    {
     "cell_type": "code",
     "collapsed": false,
     "input": [],
     "language": "python",
     "metadata": {},
     "outputs": []
    }
   ],
   "metadata": {}
  }
 ]
}
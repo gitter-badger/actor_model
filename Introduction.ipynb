{
 "metadata": {
  "celltoolbar": "Slideshow",
  "name": "",
  "signature": "sha256:0369eb5dcc133443461877e3c54b79f87c96920b4d913c2ce804527ec0ac2322"
 },
 "nbformat": 3,
 "nbformat_minor": 0,
 "worksheets": [
  {
   "cells": [
    {
     "cell_type": "markdown",
     "metadata": {
      "slideshow": {
       "slide_type": "skip"
      }
     },
     "source": [
      "Before starting:\n",
      "================\n",
      "\n",
      "This notebook is meant to be used as slides.\n",
      "\n",
      "Evaluate the following cell to convert it to html:"
     ]
    },
    {
     "cell_type": "code",
     "collapsed": false,
     "input": [
      "!ipython nbconvert --to slides Introduction.ipynb --SlidesExporter.template_file=slides_template.tpl"
     ],
     "language": "python",
     "metadata": {
      "slideshow": {
       "slide_type": "skip"
      }
     },
     "outputs": [
      {
       "output_type": "stream",
       "stream": "stdout",
       "text": [
        "[NbConvertApp] Using existing profile dir: '/Users/walter/.ipython/profile_default'\r\n"
       ]
      },
      {
       "output_type": "stream",
       "stream": "stdout",
       "text": [
        "[NbConvertApp] Converting notebook Introduction.ipynb to slides\r\n",
        "[NbConvertApp] Support files will be in Introduction_files/\r\n"
       ]
      },
      {
       "output_type": "stream",
       "stream": "stdout",
       "text": [
        "[NbConvertApp] Loaded template slides_template.tpl\r\n"
       ]
      },
      {
       "output_type": "stream",
       "stream": "stdout",
       "text": [
        "[NbConvertApp] Writing 197789 bytes to Introduction.slides.html\r\n"
       ]
      }
     ],
     "prompt_number": 31
    },
    {
     "cell_type": "markdown",
     "metadata": {
      "slideshow": {
       "slide_type": "skip"
      }
     },
     "source": [
      "Evaluate the following cell to start a server with the generated slides:"
     ]
    },
    {
     "cell_type": "code",
     "collapsed": false,
     "input": [
      "PORT = 5555 # change the port if necessary\n",
      "\n",
      "import subprocess\n",
      "server = subprocess.Popen('python -m http.server {}'.format(PORT).split())\n",
      "print('\\nSee the slides at: http://localhost:{}/Introduction.slides.html'.format(PORT))"
     ],
     "language": "python",
     "metadata": {
      "slideshow": {
       "slide_type": "skip"
      }
     },
     "outputs": [
      {
       "output_type": "stream",
       "stream": "stdout",
       "text": [
        "\n",
        "See the slides at: http://localhost:5555/Introduction.slides.html\n"
       ]
      }
     ],
     "prompt_number": 32
    },
    {
     "cell_type": "markdown",
     "metadata": {
      "slideshow": {
       "slide_type": "skip"
      }
     },
     "source": [
      "Stop the server with:"
     ]
    },
    {
     "cell_type": "code",
     "collapsed": false,
     "input": [
      "server.kill()"
     ],
     "language": "python",
     "metadata": {
      "slideshow": {
       "slide_type": "skip"
      }
     },
     "outputs": [],
     "prompt_number": 30
    },
    {
     "cell_type": "markdown",
     "metadata": {
      "slideshow": {
       "slide_type": "slide"
      }
     },
     "source": [
      "Introduction to the Actor Model of Computation\n",
      "==============================================\n",
      "\n",
      "<p>\n",
      "Walter Moreira <br/>\n",
      "https://github.com/waltermoreira/actor_model\n",
      "</p>"
     ]
    },
    {
     "cell_type": "markdown",
     "metadata": {
      "slideshow": {
       "slide_type": "slide"
      }
     },
     "source": [
      "## Actor Model History\n",
      "\n",
      "* __Carl Hewitt__ (1973), __Gul Agha__ (1986)\n",
      "\n",
      "* Influences from early Object Oriented paradigm (_Smalltalk_, __Alan Kay__)\n",
      "\n",
      "* Inspired from physics (relativity and locality laws hold!)"
     ]
    },
    {
     "cell_type": "markdown",
     "metadata": {
      "slideshow": {
       "slide_type": "slide"
      }
     },
     "source": [
      "## Features\n",
      "\n",
      "* Basis for theory and practice\n",
      "\n",
      "* Share Nothing, Message Passing semantics (ultimate OO language!)\n",
      "\n",
      "* Strictly more powerful than classic computation (Turing machines, lambda calculus)\n",
      "\n",
      "* Security by construction (capabilities are subsumed in actors)\n",
      "\n",
      "* Composable (fractal Lego pieces)\n",
      "\n",
      "<center><img src=\"lego.png\" width=\"100px\" /></center>"
     ]
    },
    {
     "cell_type": "markdown",
     "metadata": {
      "slideshow": {
       "slide_type": "slide"
      }
     },
     "source": [
      "## Definition\n",
      "\n",
      "An __actor__ is an entity that receives a _message_ and, in response, can **concurrently**:\n",
      "\n",
      "* send a message to other actors it knows about\n",
      "\n",
      "* create a finite number of new actors\n",
      "\n",
      "* designate the behavior to handle the *next* message it receives"
     ]
    },
    {
     "cell_type": "markdown",
     "metadata": {
      "slideshow": {
       "slide_type": "fragment"
      }
     },
     "source": [
      "A minimal actor language contains the primitives:\n",
      "\n",
      "* `send`\n",
      "\n",
      "* `create`\n",
      "\n",
      "* `become`"
     ]
    },
    {
     "cell_type": "markdown",
     "metadata": {
      "slideshow": {
       "slide_type": "slide"
      }
     },
     "source": [
      "## Important notes\n",
      "\n",
      "* A message can be **anything**, including actors (actor addresses)\n",
      "\n",
      "* Messages **do not** include return address\n",
      "\n",
      "* An actor is **single threaded** (linear order of events it receives), but **no** order in events it sends\n",
      "\n",
      "* Messages are __guaranteed__ to be delivered (which implies _fairness_)\n",
      "\n",
      "* Topology of the network is __dynamic__"
     ]
    },
    {
     "cell_type": "markdown",
     "metadata": {
      "slideshow": {
       "slide_type": "fragment"
      }
     },
     "source": [
      "#### A bit of theory\n",
      "\n",
      "* Actor model has _unbounded nondeterminism_: can construct an actor system that\n",
      "\n",
      "  * Always halts\n",
      "  \n",
      "  * For any positive integer $n$, it can compute a number $m\\ge n$\n",
      "  \n",
      "* Denotational semantics: **Clinger** (1981), operational semantics: **Agha** (1983, 1986)\n",
      "\n",
      "* Principle of Actor Induction, to reason about invariants"
     ]
    },
    {
     "cell_type": "markdown",
     "metadata": {
      "slideshow": {
       "slide_type": "slide"
      }
     },
     "source": [
      "## Current Systems based on Actors\n",
      "\n",
      "(None of these are the _pure_ actor model)\n",
      "\n",
      "* _Erlang_, _Elixir_: selective receive, processes, can synthesize addresses\n",
      "\n",
      "* _Akka_ (Scala)\n",
      "\n",
      "(closer to pure actor model)\n",
      "\n",
      "* _Orleans_ (Microsoft)"
     ]
    },
    {
     "cell_type": "markdown",
     "metadata": {
      "slideshow": {
       "slide_type": "fragment"
      }
     },
     "source": [
      "## Other theories\n",
      "\n",
      "* CSP: Communicating Sequential Processes (**Hoare**, 1978)\n",
      "\n",
      "* $\\pi$-calculus (**Milner**, 1992)"
     ]
    },
    {
     "cell_type": "markdown",
     "metadata": {
      "slideshow": {
       "slide_type": "slide"
      }
     },
     "source": [
      "## A word on actor addresses\n",
      "\n",
      "* Two domains: local, remote\n",
      "\n",
      "* In practice, use cryptographic hashes for both (e.g.: SHA-X)\n",
      "\n",
      "* Find nodes through standard internet protocols or _Distributed Hash Tables_"
     ]
    },
    {
     "cell_type": "markdown",
     "metadata": {
      "slideshow": {
       "slide_type": "fragment"
      }
     },
     "source": [
      "## A word on configurations\n",
      "\n",
      "* A **configuration** is a group of actors behaving transparently as one actor\n",
      "\n",
      "* May contain several _receptionists_, and they can vary in time\n",
      "\n",
      "* The composition is associative, commutative, and has an identity (commutative monoid)"
     ]
    },
    {
     "cell_type": "markdown",
     "metadata": {
      "slideshow": {
       "slide_type": "slide"
      }
     },
     "source": [
      "## References\n",
      "\n",
      "See these references at: https://github.com/waltermoreira/actor_model\n",
      "\n",
      "* **Gul Agha**. *Actors: A Model of Concurrent Computation in\n",
      "  Distributed Systems*. Doctoral Dissertation. 1986.\n",
      "\n",
      "* **Gul Agha, Ian Mason, Scott Smith, Carolyn Talcott**. *A Foundation\n",
      "  for Actor Computation*. Journal of Functional Programming,\n",
      "  January 1993.\n",
      "\n",
      "* **Carl Hewitt, Peter Bishop and Richard Steiger**. *A Universal\n",
      "  Modular Actor Formalism for Artificial Intelligence*. IJCAI\u201973.\n",
      "\n",
      "* **Carl Hewitt**. *Actor Model of Computation: Scalable Robust\n",
      "  Information Systems*. Inconsistency Robustness 2011, Stanford\n",
      "  University.\n",
      "\n",
      "* **Dale Schumacher**. *It's Actors All The Way Down*. Blog.\n"
     ]
    }
   ],
   "metadata": {}
  }
 ]
}
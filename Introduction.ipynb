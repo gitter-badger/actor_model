{
 "metadata": {
  "celltoolbar": "Slideshow",
  "name": "",
  "signature": "sha256:bacc962eb44d1c9ae9f1a9b8768c82f7f2b2079392d21867083ef61768db1a76"
 },
 "nbformat": 3,
 "nbformat_minor": 0,
 "worksheets": [
  {
   "cells": [
    {
     "cell_type": "markdown",
     "metadata": {
      "slideshow": {
       "slide_type": "skip"
      }
     },
     "source": [
      "Before starting:\n",
      "================\n",
      "\n",
      "This notebook is meant to be used as slides.\n",
      "\n",
      "Evaluate the following cell to convert it to html:"
     ]
    },
    {
     "cell_type": "code",
     "collapsed": false,
     "input": [
      "!ipython nbconvert --to slides Introduction.ipynb --SlidesExporter.template_file=slides_template.tpl"
     ],
     "language": "python",
     "metadata": {
      "slideshow": {
       "slide_type": "skip"
      }
     },
     "outputs": [
      {
       "output_type": "stream",
       "stream": "stdout",
       "text": [
        "[NbConvertApp] Using existing profile dir: '/Users/walter/.ipython/profile_default'\r\n"
       ]
      },
      {
       "output_type": "stream",
       "stream": "stdout",
       "text": [
        "[NbConvertApp] Converting notebook Introduction.ipynb to slides\r\n",
        "[NbConvertApp] Support files will be in Introduction_files/\r\n"
       ]
      },
      {
       "output_type": "stream",
       "stream": "stdout",
       "text": [
        "[NbConvertApp] Loaded template slides_template.tpl\r\n"
       ]
      },
      {
       "output_type": "stream",
       "stream": "stdout",
       "text": [
        "[NbConvertApp] Writing 192299 bytes to Introduction.slides.html\r\n"
       ]
      }
     ],
     "prompt_number": 8
    },
    {
     "cell_type": "markdown",
     "metadata": {
      "slideshow": {
       "slide_type": "skip"
      }
     },
     "source": [
      "Evaluate the following cell to start a server with the generated slides:"
     ]
    },
    {
     "cell_type": "code",
     "collapsed": false,
     "input": [
      "PORT = 5555 # change the port if necessary\n",
      "\n",
      "import subprocess\n",
      "server = subprocess.Popen('python -m http.server {}'.format(PORT).split())\n",
      "print('\\nSee the slides at: http://localhost:{}/Introduction.slides.html'.format(PORT))"
     ],
     "language": "python",
     "metadata": {
      "slideshow": {
       "slide_type": "skip"
      }
     },
     "outputs": []
    },
    {
     "cell_type": "markdown",
     "metadata": {
      "slideshow": {
       "slide_type": "slide"
      }
     },
     "source": [
      "Introduction to the Actor Model of Computation\n",
      "==============================================\n",
      "\n",
      "Walter Moreira"
     ]
    },
    {
     "cell_type": "markdown",
     "metadata": {
      "slideshow": {
       "slide_type": "slide"
      }
     },
     "source": [
      "## Actor Model History\n",
      "\n",
      "* __Carl Hewitt__ (1973), __Gul Agha__ (1986)\n",
      "\n",
      "* Influences from early Object Oriented paradigm (_Smalltalk_, __Alan Kay__)\n",
      "\n",
      "* Inspired from physics (relativity and locality laws hold!)"
     ]
    },
    {
     "cell_type": "markdown",
     "metadata": {
      "slideshow": {
       "slide_type": "slide"
      }
     },
     "source": [
      "## Features\n",
      "\n",
      "* Basis for theory and practice\n",
      "\n",
      "* Share Nothing, Message Passing semantics (ultimate OO language!)\n",
      "\n",
      "* Composable\n",
      "\n",
      "* Strictly more powerful than classic computation (Turing machines, lambda calculus)\n",
      "\n",
      "* Security by construction (capabilities are subsumed in actors)"
     ]
    },
    {
     "cell_type": "markdown",
     "metadata": {
      "slideshow": {
       "slide_type": "slide"
      }
     },
     "source": [
      "## Definition\n",
      "\n",
      "An __actor__ is an entity that receives a _message_ and, in response, can **concurrently**:\n",
      "\n",
      "* send a message to other actors it knows about\n",
      "\n",
      "* create a finite number of new actors\n",
      "\n",
      "* designate how to handle the *next* message it receives"
     ]
    },
    {
     "cell_type": "markdown",
     "metadata": {
      "slideshow": {
       "slide_type": "fragment"
      }
     },
     "source": [
      "### Important notes\n",
      "\n",
      "* A message can be **anything**, including actors (actor addresses)\n",
      "\n",
      "* Messages **do not** include return address\n",
      "\n",
      "* An actor is **single threaded** (linear order of events it receives)\n",
      "\n",
      "* But *no* order in events it sends"
     ]
    }
   ],
   "metadata": {}
  }
 ]
}